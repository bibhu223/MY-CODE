{
    "metadata": {
        "kernelspec": {
            "name": "python3",
            "display_name": "Python 3 (ipykernel)",
            "language": "python"
        }
    },
    "nbformat": 4,
    "nbformat_minor": 4,
    "cells": [
        {
            "cell_type": "code",
            "execution_count": 1,
            "metadata": {},
            "outputs": [],
            "source": [
                "import numpy as np\n",
                "import pandas as pd\n",
                "import pickle\n",
                "from sklearn.metrics import pairwise_distances"
            ]
        },
        {
            "cell_type": "code",
            "execution_count": 2,
            "metadata": {},
            "outputs": [
                {
                    "data": {
                        "text/html": "\u003cdiv\u003e\n\u003cstyle scoped\u003e\n    .dataframe tbody tr th:only-of-type {\n        vertical-align: middle;\n    }\n\n    .dataframe tbody tr th {\n        vertical-align: top;\n    }\n\n    .dataframe thead th {\n        text-align: right;\n    }\n\u003c/style\u003e\n\u003ctable border=\"1\" class=\"dataframe\"\u003e\n  \u003cthead\u003e\n    \u003ctr style=\"text-align: right;\"\u003e\n      \u003cth\u003e\u003c/th\u003e\n      \u003cth\u003ereview\u003c/th\u003e\n      \u003cth\u003esentiment\u003c/th\u003e\n    \u003c/tr\u003e\n  \u003c/thead\u003e\n  \u003ctbody\u003e\n    \u003ctr\u003e\n      \u003cth\u003e0\u003c/th\u003e\n      \u003ctd\u003eOne of the other reviewers has mentioned that ...\u003c/td\u003e\n      \u003ctd\u003epositive\u003c/td\u003e\n    \u003c/tr\u003e\n    \u003ctr\u003e\n      \u003cth\u003e1\u003c/th\u003e\n      \u003ctd\u003eA wonderful little production. \u0026lt;br /\u0026gt;\u0026lt;br /\u0026gt;The...\u003c/td\u003e\n      \u003ctd\u003epositive\u003c/td\u003e\n    \u003c/tr\u003e\n    \u003ctr\u003e\n      \u003cth\u003e2\u003c/th\u003e\n      \u003ctd\u003eI thought this was a wonderful way to spend ti...\u003c/td\u003e\n      \u003ctd\u003epositive\u003c/td\u003e\n    \u003c/tr\u003e\n    \u003ctr\u003e\n      \u003cth\u003e3\u003c/th\u003e\n      \u003ctd\u003eBasically there's a family where a little boy ...\u003c/td\u003e\n      \u003ctd\u003enegative\u003c/td\u003e\n    \u003c/tr\u003e\n    \u003ctr\u003e\n      \u003cth\u003e4\u003c/th\u003e\n      \u003ctd\u003ePetter Mattei's \"Love in the Time of Money\" is...\u003c/td\u003e\n      \u003ctd\u003epositive\u003c/td\u003e\n    \u003c/tr\u003e\n  \u003c/tbody\u003e\n\u003c/table\u003e\n\u003c/div\u003e",
                        "text/plain": "                                              review sentiment\n0  One of the other reviewers has mentioned that ...  positive\n1  A wonderful little production. \u003cbr /\u003e\u003cbr /\u003eThe...  positive\n2  I thought this was a wonderful way to spend ti...  positive\n3  Basically there's a family where a little boy ...  negative\n4  Petter Mattei's \"Love in the Time of Money\" is...  positive"
                    },
                    "execution_count": 2,
                    "metadata": {},
                    "output_type": "execute_result"
                }
            ],
            "source": [
                "train_df=pd.read_csv('/home/subset_imdb19.csv')\n",
                "train_df.head()"
            ]
        },
        {
            "attachments": {},
            "cell_type": "markdown",
            "metadata": {},
            "source": [
                "The first column contains the reviews as a string. The second contains the class, which we will not use.\n",
                "\n",
                "Read the first review."
            ]
        },
        {
            "cell_type": "code",
            "execution_count": 3,
            "metadata": {},
            "outputs": [
                {
                    "data": {
                        "text/plain": "\"One of the other reviewers has mentioned that after watching just 1 Oz episode you'll be hooked. They are right, as this is exactly what happened with me.\u003cbr /\u003e\u003cbr /\u003eThe first thing that struck me about Oz was its brutality and unflinching scenes of violence, which set in right from the word GO. Trust me, this is not a show for the faint hearted or timid. This show pulls no punches with regards to drugs, sex or violence. Its is hardcore, in the classic use of the word.\u003cbr /\u003e\u003cbr /\u003eIt is called OZ as that is the nickname given to the Oswald Maximum Security State Penitentary. It focuses mainly on Emerald City, an experimental section of the prison where all the cells have glass fronts and face inwards, so privacy is not high on the agenda. Em City is home to many..Aryans, Muslims, gangstas, Latinos, Christians, Italians, Irish and more....so scuffles, death stares, dodgy dealings and shady agreements are never far away.\u003cbr /\u003e\u003cbr /\u003eI would say the main appeal of the show is due to the fact that it goes where other shows wouldn't dare. Forget pretty pictures painted for mainstream audiences, forget charm, forget romance...OZ doesn't mess around. The first episode I ever saw struck me as so nasty it was surreal, I couldn't say I was ready for it, but as I watched more, I developed a taste for Oz, and got accustomed to the high levels of graphic violence. Not just violence, but injustice (crooked guards who'll be sold out for a nickel, inmates who'll kill on order and get away with it, well mannered, middle class inmates being turned into prison bitches due to their lack of street skills or prison experience) Watching Oz, you may become comfortable with what is uncomfortable viewing....thats if you can get in touch with your darker side.\""
                    },
                    "execution_count": 3,
                    "metadata": {},
                    "output_type": "execute_result"
                }
            ],
            "source": [
                "review_id = 0\n",
                "review = train_df.iloc[review_id].review\n",
                "review"
            ]
        },
        {
            "attachments": {},
            "cell_type": "markdown",
            "metadata": {},
            "source": [
                "As you can see, this contains HTML tags and punctuations. For your convenience, we preprocessed the dataset beforehand."
            ]
        },
        {
            "cell_type": "code",
            "execution_count": 4,
            "metadata": {},
            "outputs": [
                {
                    "data": {
                        "text/plain": "'one of the other reviewers has mentioned that after watching just 1 oz episode you ll be hooked they are right as this is exactly what happened with me the first thing that struck me about oz was its brutality and unflinching scenes of violence which set in right from the word go trust me this is not a show for the faint hearted or timid this show pulls no punches with regards to drugs sex or violence its is hardcore in the classic use of the word it is called oz as that is the nickname given to the oswald maximum security state penitentary it focuses mainly on emerald city an experimental section of the prison where all the cells have glass fronts and face inwards so privacy is not high on the agenda em city is home to many aryans muslims gangstas latinos christians italians irish and more so scuffles death stares dodgy dealings and shady agreements are never far away i would say the main appeal of the show is due to the fact that it goes where other shows wouldn t dare forget pretty pictures painted for mainstream audiences forget charm forget romance oz doesn t mess around the first episode i ever saw struck me as so nasty it was surreal i couldn t say i was ready for it but as i watched more i developed a taste for oz and got accustomed to the high levels of graphic violence not just violence but injustice crooked guards who ll be sold out for a nickel inmates who ll kill on order and get away with it well mannered middle class inmates being turned into prison bitches due to their lack of street skills or prison experience watching oz you may become comfortable with what is uncomfortable viewing thats if you can get in touch with your darker side\\n'"
                    },
                    "execution_count": 4,
                    "metadata": {},
                    "output_type": "execute_result"
                }
            ],
            "source": [
                "with open('/home/dataset_file_0_19.dat', 'r') as file:\n",
                "    dataset = file.readlines()\n",
                "processed = dataset[review_id]    \n",
                "processed"
            ]
        },
        {
            "attachments": {},
            "cell_type": "markdown",
            "metadata": {},
            "source": [
                "Note that we removed punctuation signs, leaving only lowercase words separated by spaces.\n",
                "\n",
                "Can you still understand the content of the text?"
            ]
        },
        {
            "attachments": {},
            "cell_type": "markdown",
            "metadata": {},
            "source": [
                "### **⏸ How many words does the first review have?**\n",
                "\n",
                "#### A. 314\n",
                "#### B. 256\n",
                "#### C. 160"
            ]
        },
        {
            "cell_type": "code",
            "execution_count": 5,
            "metadata": {},
            "outputs": [],
            "source": [
                "### edTest(test_chow1) ###\n",
                "#your answer here\n",
                "answer1 = 'A'"
            ]
        },
        {
            "attachments": {},
            "cell_type": "markdown",
            "metadata": {},
            "source": [
                "The final ingredient are the ELMo embeddings. \n",
                "The embeddings are contained in a dictionary, where each key is the review number and the value a numpy array containing the corresponding embedding.\n",
                "\n",
                "We will use the embeddings of the fist review."
            ]
        },
        {
            "cell_type": "code",
            "execution_count": 6,
            "metadata": {},
            "outputs": [],
            "source": [
                "with open('/home/elmo_embeddings_0_19.pkl', 'rb') as file:\n",
                "    elmo_dict = pickle.load(file)\n",
                "sentence_embeddings = elmo_dict[review_id]    "
            ]
        },
        {
            "attachments": {},
            "cell_type": "markdown",
            "metadata": {},
            "source": [
                "### **⏸ Which dimension corresponds to the number of words?**\n",
                "\n",
                "#### A. 0\n",
                "#### B. 1\n",
                "#### C. 2\n",
                ""
            ]
        },
        {
            "cell_type": "code",
            "execution_count": 7,
            "metadata": {},
            "outputs": [],
            "source": [
                "### edTest(test_chow2) ###\n",
                "answer2 = 'B'"
            ]
        },
        {
            "attachments": {},
            "cell_type": "markdown",
            "metadata": {},
            "source": [
                "Now, lets study some of the word embeddings. "
            ]
        },
        {
            "cell_type": "code",
            "execution_count": 8,
            "metadata": {},
            "outputs": [],
            "source": [
                "# Split the review by ' ', transform it into a numpy array \n",
                "#and find the indices that  correspond to the word prison.\n",
                "index = np.array(dataset[review_id].split(' '))=='prison'\n",
                "# Filter the embeddings of the word prison\n",
                "sel_elmo = sentence_embeddings[:,index,:]"
            ]
        },
        {
            "attachments": {},
            "cell_type": "markdown",
            "metadata": {},
            "source": [
                "Your should have three embeddings, corresponding to the number of times the word appears in the review."
            ]
        },
        {
            "attachments": {},
            "cell_type": "markdown",
            "metadata": {},
            "source": [
                "Compare values of the dimensions for the same word.\n",
                "\n",
                "### **⏸ In which dimension they have values in common?**\n",
                "\n",
                "#### A. 0\n",
                "#### B. 1\n",
                "#### C. 2\n",
                "\n",
                ""
            ]
        },
        {
            "cell_type": "code",
            "execution_count": 9,
            "metadata": {},
            "outputs": [],
            "source": [
                "### edTest(test_chow3) ###\n",
                "answer3 = 'A'"
            ]
        },
        {
            "attachments": {},
            "cell_type": "markdown",
            "metadata": {},
            "source": [
                "Create your own secret sauce. Put emphasis on the higher order embeddings as shown below."
            ]
        },
        {
            "cell_type": "code",
            "execution_count": 10,
            "metadata": {},
            "outputs": [],
            "source": [
                "def secret_sauce(embeddings, s):\n",
                "    s = np.array(s)\n",
                "    return s[0]*embeddings[0,:,:]+s[1]*embeddings[1,:,:]+s[2]*embeddings[2,:,:]\n",
                ""
            ]
        },
        {
            "cell_type": "code",
            "execution_count": 11,
            "metadata": {},
            "outputs": [],
            "source": [
                "sauce = secret_sauce(sentence_embeddings, [0.1, 0.4, 0.5])"
            ]
        },
        {
            "attachments": {},
            "cell_type": "markdown",
            "metadata": {},
            "source": [
                "Compute the cosine similarity."
            ]
        },
        {
            "cell_type": "code",
            "execution_count": 12,
            "metadata": {},
            "outputs": [],
            "source": [
                "# We compute the cosine similarity between all the embeddings in sauce\n",
                "dist = pairwise_distances(sauce, metric='cosine', n_jobs=-1)\n",
                "\n",
                "# We are looking for the closest one, but the diagonal will always be 0. \n",
                "# We change the diagonal to 999 (a big number)\n",
                "dist[np.arange(dist.shape[0]), np.arange(dist.shape[0])] = 999\n",
                "\n",
                "# We find the elements corresponding to the words we selected.\n",
                "# We use argsort to find the nearest neighbors\n",
                "neighbors = dist[index,:].argsort(axis=1)"
            ]
        },
        {
            "attachments": {},
            "cell_type": "markdown",
            "metadata": {},
            "source": [
                "And now we can get the closest words acording to our sauce embeddings. "
            ]
        },
        {
            "cell_type": "code",
            "execution_count": 13,
            "metadata": {},
            "outputs": [
                {
                    "name": "stdout",
                    "output_type": "stream",
                    "text": "['state' 'city' 'security' 'prison' 'penitentary']\n['prison' 'bitches' 'prison' 'inmates' 'crooked']\n['prison' 'street' 'experience' 'skills' 'prison']\n"
                }
            ],
            "source": [
                "review = np.array(dataset[review_id].split(' '))\n",
                "for i in range(neighbors.shape[0]):\n",
                "    print(review[neighbors[i,:5]])"
            ]
        },
        {
            "attachments": {},
            "cell_type": "markdown",
            "metadata": {},
            "source": [
                "You can see that even with the same word, the neighbors are different, with different meaning each time. \n",
                "This is because we put more emphasis on the higher level embeddings.\n",
                "\n",
                "Compute the sauce for $s = [1,0,0]$."
            ]
        },
        {
            "cell_type": "code",
            "execution_count": 14,
            "metadata": {},
            "outputs": [],
            "source": [
                "# We change s to [1,0,0] \n",
                "sauce = secret_sauce(sentence_embeddings, [1, 0, 0])\n",
                "\n",
                "# Complete here"
            ]
        }
    ]
}
