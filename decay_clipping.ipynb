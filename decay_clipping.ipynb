{
    "metadata": {
        "kernelspec": {
            "name": "python3",
            "display_name": "Python 3 (ipykernel)",
            "language": "python"
        }
    },
    "nbformat": 4,
    "nbformat_minor": 4,
    "cells": [
        {
            "cell_type": "code",
            "execution_count": 22,
            "metadata": {},
            "outputs": [],
            "source": [
                "# Import necessary libraries\n",
                "import matplotlib.pyplot as plt\n",
                "import numpy as np\n",
                "%matplotlib inline"
            ]
        },
        {
            "cell_type": "code",
            "execution_count": 23,
            "metadata": {},
            "outputs": [],
            "source": [
                "# Function to compute response given predictor\n",
                "def f(x):\n",
                "    return np.cos(3*np.pi*x)/x"
            ]
        },
        {
            "cell_type": "code",
            "execution_count": 24,
            "metadata": {},
            "outputs": [],
            "source": [
                "# Function to compute the derivative\n",
                "def der_f(x):\n",
                "    return -(3*np.pi*x*np.sin(3*np.pi*x)+np.cos(3*np.pi*x))/x**2"
            ]
        },
        {
            "cell_type": "code",
            "execution_count": 25,
            "metadata": {},
            "outputs": [],
            "source": [
                "# Helper function to get tangent points\n",
                "def get_tangent_line(x, x_range=.5):\n",
                "    y = f(x)\n",
                "    m = der_f(x)\n",
                "    # get tangent line points\n",
                "    # slope point form: y-y_1 = m(x-x_1)\n",
                "    # y = m(x-x_1)+y_1\n",
                "    x1, y1 = x, y\n",
                "    x = np.linspace(x1-x_range/2, x1+x_range/2, 50)\n",
                "    y = m*(x-x1)+y1\n",
                "    return x, y, m"
            ]
        },
        {
            "cell_type": "code",
            "execution_count": 26,
            "metadata": {},
            "outputs": [],
            "source": [
                "# Helper function to plot the data\n",
                "def plot_it(cur_x, title='', ax=plt):\n",
                "    y = f(x)\n",
                "    ax.plot(x,y)\n",
                "    ax.scatter(cur_x, f(cur_x), c='r', s=80, alpha=1);\n",
                "    x_tan, y_tan, der = get_tangent_line(cur_x)\n",
                "    ax.plot(x_tan, y_tan, ls='--', c='r')\n",
                "    # indicate when if our location is outside the x range\n",
                "    if cur_x \u003e x.max():\n",
                "        ax.axvline(x.max(), c='r', lw=3)\n",
                "        ax.arrow(x.max()/1.6, y.max()/2, x.max()/5, 0, color='r', head_width=.25)\n",
                "    if cur_x \u003c x.min():\n",
                "        ax.axvline(x.min(), c='r', lw=3)\n",
                "        ax.arrow(x.max()/2.5, y.max()/2, -x.max()/5, 0, color='r', head_width=.25)\n",
                "    ax.set_xlim(x.min(), x.max())\n",
                "    ax.set_ylim(-3.5, 3.5)\n",
                "    ax.set_title(title)"
            ]
        },
        {
            "cell_type": "code",
            "execution_count": 27,
            "metadata": {},
            "outputs": [
                {
                    "data": {
                        "image/png": "[encoded data removed]",
                        "text/plain": "\u003cFigure size 576x432 with 1 Axes\u003e"
                    },
                    "metadata": {
                        "needs_background": "light"
                    },
                    "output_type": "display_data"
                }
            ],
            "source": [
                "# Generate predictor data\n",
                "x = np.linspace(0.1,3, 200)\n",
                "\n",
                "# Get the response data by calling the function f \n",
                "y = f(x)\n",
                "\n",
                "# Plot the generated data\n",
                "fig, ax = plt.subplots(figsize=(8,6))\n",
                "plt.plot(x,y, linewidth=3, color='#F5B7B1')\n",
                "plt.xlim(x.min(), x.max());\n",
                "plt.xticks(fontsize=14)\n",
                "plt.yticks(fontsize=14)\n",
                "plt.xlabel('$x$', fontsize=16)\n",
                "plt.ylabel('$y$', fontsize=16)\n",
                "plt.grid(alpha=0.5)\n",
                "plt.show()"
            ]
        },
        {
            "cell_type": "code",
            "execution_count": 28,
            "metadata": {},
            "outputs": [],
            "source": [
                "# Function to perform clipping\n",
                "# This function should retun the gradient with a magnitude \u003c=clip_threshold\n",
                "\n",
                "def clip(g, clip_threshold=8):\n",
                "    \n",
                "    # Compare the absolute value of the gradient with the clip_threshold\n",
                "    if np.abs(g) \u003e clip_threshold:\n",
                "        \n",
                "    #Compute the gradient based on the equation given\n",
                "        g = g*clip_threshold/np.abs(g)\n",
                "        \n",
                "    return g"
            ]
        },
        {
            "cell_type": "code",
            "execution_count": 29,
            "metadata": {},
            "outputs": [],
            "source": [
                "# Set the initial value of x\n",
                "cur_x = 0.5 \n",
                "\n",
                "# The learning rate for gradient descent\n",
                "learning_rate = 0.001\n",
                "\n",
                "# The decay rate determines the percent by which the learning rate reduces each step\n",
                "decay_rate = 0.5\n",
                "\n",
                "# Setting the epsilon value\n",
                "epsilon = 0.025"
            ]
        },
        {
            "cell_type": "code",
            "execution_count": 30,
            "metadata": {},
            "outputs": [
                {
                    "data": {
                        "image/png": "[encoded data removed]",
                        "text/plain": "\u003cFigure size 1080x432 with 20 Axes\u003e"
                    },
                    "metadata": {
                        "needs_background": "light"
                    },
                    "output_type": "display_data"
                }
            ],
            "source": [
                "fig, axs = plt.subplots(4,5, figsize=(15,6), sharey=True)\n",
                "\n",
                "\n",
                "for i, ax in enumerate(axs.ravel()):\n",
                "    plot_it(cur_x, title=f\"{i} step{'' if i == 1 else 's'}\", ax=ax)\n",
                "    \n",
                "    # Store the x value before change in a separate variable\n",
                "    prev_x = cur_x \n",
                "    \n",
                "    # Compute the derivative of x\n",
                "    der_cur_x = der_f(cur_x)\n",
                "    \n",
                "    # Get the gradient of the derivative of x using clipping\n",
                "    g = clip(der_cur_x)\n",
                "\n",
                "    # Update the x-value using the learning rate\n",
                "    cur_x = cur_x - learning_rate*g \n",
                "    \n",
                "    # Update the learning rate based on the decay rate\n",
                "    learning_rate = learning_rate*(1-decay_rate)\n",
                "    \n",
                "    # Stop algorithm if magnitude of change below epsilon\n",
                "    if np.abs(cur_x - prev_x) \u003c= epsilon: \n",
                "        # hide unused subplots\n",
                "        for ax in axs.ravel()[i+1:]:\n",
                "            ax.axis('off') \n",
                "        break\n",
                "\n",
                "plt.tight_layout()\n",
                "\n",
                "if i == len(axs.ravel())-1:\n",
                "    print('Did not converge!')"
            ]
        },
        {
            "cell_type": "code",
            "execution_count": 31,
            "metadata": {},
            "outputs": [
                {
                    "data": {
                        "text/plain": "0.492"
                    },
                    "execution_count": 31,
                    "metadata": {},
                    "output_type": "execute_result"
                }
            ],
            "source": [
                "cur_x"
            ]
        },
        {
            "attachments": {},
            "cell_type": "markdown",
            "metadata": {},
            "source": [
                "## Mindchow 🍲"
            ]
        },
        {
            "attachments": {},
            "cell_type": "markdown",
            "metadata": {},
            "source": [
                "After marking your exercise, try tweaking learning_rate, decay_rate, and perhaps the default value of clip_threshold. Can you anticipate how it will affect your results? \n",
                "\n",
                "See if you can find a combination that will converge to the global minimum."
            ]
        }
    ]
}
